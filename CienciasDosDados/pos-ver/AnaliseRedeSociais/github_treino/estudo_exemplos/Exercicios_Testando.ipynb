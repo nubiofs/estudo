
#%%
import networkx as nx
from datetime import datetime
import matplotlib.pyplot as plt
import numpy as np
import warnings
from custom import load_data as cf

warnings.filterwarnings('ignore')

get_ipython().run_line_magic('load_ext', 'autoreload')
get_ipython().run_line_magic('autoreload', '2')
get_ipython().run_line_magic('matplotlib', 'inline')
get_ipython().run_line_magic('config', "InlineBackend.figure_format = 'retina'")


#%%
G = cf.load_seventh_grader_network()


#%%
type(G)


#%%
type(G.node())


#%%
list(G.nodes())[0:5]


#%%
len(G.edges())


#%%
get_ipython().run_line_magic('pinfo2', 'G.edges')


#%%
list(G.edges())[0:5]


#%%
G.nodes(data=True)


#%%
list(G.nodes(data=True))[0:5]


#%%
from collections import Counter


#%%
c = Counter([d['gender'] for n, d in G.nodes(data=True)])


#%%
type(c)


#%%
get_ipython().run_line_magic('pinfo2', 'Counter')


#%%
c['male']


#%%
list(G.edges(data=True))[0:3]


#%%
num = Counter([d['count'] for u, v, d in G.edges(data=True)])


#%%
num


#%%
max(num)


#%%
len(G.nodes(data=True))


#%%
#G.nodes()
#G.nodes[3]
list(G.nodes())


#%%
G.has_node(3)


#%%
list(G.edges(data=True))[0]


#%%
G.has_edge(1,2)


#%%
G.edges()


#%%
voltaNao = []
for n1, n2 in G.edges():
    if not G.has_edge(n2, n1):
        voltaNao.append((n1, n2))
len(voltaNao)


#%%
len([(n1,n2) for n1, n2 in G.edges() if not G.has_edge(n2, n1)])



